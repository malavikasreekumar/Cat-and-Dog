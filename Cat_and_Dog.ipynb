{
  "nbformat": 4,
  "nbformat_minor": 0,
  "metadata": {
    "colab": {
      "name": "Cat and Dog.ipynb",
      "provenance": [],
      "collapsed_sections": [],
      "authorship_tag": "ABX9TyMwyHykNujxKBfi+qPUuok8",
      "include_colab_link": true
    },
    "kernelspec": {
      "name": "python3",
      "display_name": "Python 3"
    },
    "accelerator": "GPU"
  },
  "cells": [
    {
      "cell_type": "markdown",
      "metadata": {
        "id": "view-in-github",
        "colab_type": "text"
      },
      "source": [
        "<a href=\"https://colab.research.google.com/github/malavikasreekumar/Cat-and-Dog/blob/master/Cat_and_Dog.ipynb\" target=\"_parent\"><img src=\"https://colab.research.google.com/assets/colab-badge.svg\" alt=\"Open In Colab\"/></a>"
      ]
    },
    {
      "cell_type": "code",
      "metadata": {
        "id": "_YjeRcMYAKWu",
        "colab_type": "code",
        "outputId": "90283fa4-bda7-4a11-ddbb-33a77a6adef7",
        "colab": {
          "base_uri": "https://localhost:8080/",
          "height": 125
        }
      },
      "source": [
        "from google.colab import drive\n",
        "drive.mount('/content/gdrive')"
      ],
      "execution_count": 4,
      "outputs": [
        {
          "output_type": "stream",
          "text": [
            "Go to this URL in a browser: https://accounts.google.com/o/oauth2/auth?client_id=947318989803-6bn6qk8qdgf4n4g3pfee6491hc0brc4i.apps.googleusercontent.com&redirect_uri=urn%3aietf%3awg%3aoauth%3a2.0%3aoob&response_type=code&scope=email%20https%3a%2f%2fwww.googleapis.com%2fauth%2fdocs.test%20https%3a%2f%2fwww.googleapis.com%2fauth%2fdrive%20https%3a%2f%2fwww.googleapis.com%2fauth%2fdrive.photos.readonly%20https%3a%2f%2fwww.googleapis.com%2fauth%2fpeopleapi.readonly\n",
            "\n",
            "Enter your authorization code:\n",
            "··········\n",
            "Mounted at /content/gdrive\n"
          ],
          "name": "stdout"
        }
      ]
    },
    {
      "cell_type": "code",
      "metadata": {
        "id": "c1Elo9L-Y7Ln",
        "colab_type": "code",
        "outputId": "912f4e5c-b0f2-4b07-9857-f1b397778dde",
        "colab": {
          "base_uri": "https://localhost:8080/",
          "height": 34
        }
      },
      "source": [
        "cd gdrive"
      ],
      "execution_count": 5,
      "outputs": [
        {
          "output_type": "stream",
          "text": [
            "/content/gdrive\n"
          ],
          "name": "stdout"
        }
      ]
    },
    {
      "cell_type": "code",
      "metadata": {
        "id": "mpSSuwmcZVW6",
        "colab_type": "code",
        "outputId": "4467f908-df7e-4030-eb71-535ff43916f9",
        "colab": {
          "base_uri": "https://localhost:8080/",
          "height": 34
        }
      },
      "source": [
        "cd My Drive"
      ],
      "execution_count": 6,
      "outputs": [
        {
          "output_type": "stream",
          "text": [
            "/content/gdrive/My Drive\n"
          ],
          "name": "stdout"
        }
      ]
    },
    {
      "cell_type": "code",
      "metadata": {
        "id": "242EpjREZgH2",
        "colab_type": "code",
        "outputId": "e0d084d2-5996-447f-fe2e-10d622c3f8fd",
        "colab": {
          "base_uri": "https://localhost:8080/",
          "height": 34
        }
      },
      "source": [
        "cd Dog_Cat"
      ],
      "execution_count": 7,
      "outputs": [
        {
          "output_type": "stream",
          "text": [
            "/content/gdrive/My Drive/Dog_Cat\n"
          ],
          "name": "stdout"
        }
      ]
    },
    {
      "cell_type": "code",
      "metadata": {
        "id": "jm61_KXSH5fE",
        "colab_type": "code",
        "colab": {}
      },
      "source": [
        "#Importing Keras Libraries\n",
        "import tensorflow as tf\n",
        "import keras\n",
        "from tensorflow.keras.models import Sequential\n",
        "from tensorflow.keras.layers import Convolution2D,Flatten,Dense,MaxPooling2D"
      ],
      "execution_count": 0,
      "outputs": []
    },
    {
      "cell_type": "code",
      "metadata": {
        "id": "I61DDS3eOBOK",
        "colab_type": "code",
        "outputId": "dd40a1ca-1e2f-4e90-8f67-8665fbe4236c",
        "colab": {
          "base_uri": "https://localhost:8080/",
          "height": 34
        }
      },
      "source": [
        "keras.backend.backend()"
      ],
      "execution_count": 0,
      "outputs": [
        {
          "output_type": "execute_result",
          "data": {
            "text/plain": [
              "'tensorflow'"
            ]
          },
          "metadata": {
            "tags": []
          },
          "execution_count": 6
        }
      ]
    },
    {
      "cell_type": "code",
      "metadata": {
        "id": "8iNTr4-iJS0O",
        "colab_type": "code",
        "colab": {}
      },
      "source": [
        "#Initializing the CNN\n",
        "classifier=Sequential()"
      ],
      "execution_count": 0,
      "outputs": []
    },
    {
      "cell_type": "code",
      "metadata": {
        "id": "FaXRfDYxJxow",
        "colab_type": "code",
        "colab": {}
      },
      "source": [
        "#Step 1 Convolution\n",
        "classifier.add(Convolution2D(32,(3,3),input_shape=(64,64,3),activation='relu'))\n",
        "\n"
      ],
      "execution_count": 0,
      "outputs": []
    },
    {
      "cell_type": "code",
      "metadata": {
        "id": "xCWJOMf1h0JS",
        "colab_type": "code",
        "colab": {}
      },
      "source": [
        "#Step 2 Pooling\n",
        "classifier.add(MaxPooling2D(pool_size=(2,2)))\n",
        "\n",
        "#Adding another convolutional layer for improving performance\n",
        "classifier.add(Convolution2D(32, (3, 3), activation = 'relu'))\n",
        "classifier.add(MaxPooling2D(pool_size=(2,2)))"
      ],
      "execution_count": 0,
      "outputs": []
    },
    {
      "cell_type": "code",
      "metadata": {
        "id": "yTje6oCDjBud",
        "colab_type": "code",
        "colab": {}
      },
      "source": [
        "#Step 3 Flatten\n",
        "classifier.add(Flatten())"
      ],
      "execution_count": 0,
      "outputs": []
    },
    {
      "cell_type": "code",
      "metadata": {
        "id": "zxkZbB0j0Mte",
        "colab_type": "code",
        "colab": {}
      },
      "source": [
        "#Step 4 Full Connection\n",
        "#older version of keras had output_dim instead of units\n",
        "classifier.add(Dense(units=128,activation='relu'))\n",
        "classifier.add(Dense(units=1,activation='sigmoid'))"
      ],
      "execution_count": 0,
      "outputs": []
    },
    {
      "cell_type": "code",
      "metadata": {
        "id": "zZFqnO313ufj",
        "colab_type": "code",
        "colab": {}
      },
      "source": [
        "#Compiling the CNN\n",
        "classifier.compile(optimizer='adam',loss='binary_crossentropy',metrics=['accuracy'])"
      ],
      "execution_count": 0,
      "outputs": []
    },
    {
      "cell_type": "code",
      "metadata": {
        "id": "uyAM-TwKSmtU",
        "colab_type": "code",
        "outputId": "4f39179b-e283-4de6-af21-4c2bae27edfc",
        "colab": {
          "base_uri": "https://localhost:8080/",
          "height": 1000
        }
      },
      "source": [
        "#Fitting the cnn to the image\n",
        "from keras.preprocessing.image import ImageDataGenerator\n",
        "train_datagen = ImageDataGenerator(\n",
        "        rescale=1./255,\n",
        "        shear_range=0.2,\n",
        "        zoom_range=0.2,\n",
        "        horizontal_flip=True)\n",
        "\n",
        "test_datagen = ImageDataGenerator(rescale=1./255)\n",
        "\n",
        "training_set = train_datagen.flow_from_directory(\n",
        "        'dataset/training_set',\n",
        "        target_size=(64,64),\n",
        "        batch_size=32,\n",
        "        class_mode='binary')\n",
        "\n",
        "test_set = test_datagen.flow_from_directory(\n",
        "        'dataset/test_set',\n",
        "        target_size=(64, 64),\n",
        "        batch_size=32,\n",
        "        class_mode='binary')\n",
        "\n",
        "classifier.fit_generator(\n",
        "        training_set,\n",
        "        steps_per_epoch=1000,\n",
        "        epochs=25,\n",
        "        validation_data=test_set,\n",
        "       validation_steps=2000)"
      ],
      "execution_count": 38,
      "outputs": [
        {
          "output_type": "stream",
          "text": [
            "Found 4260 images belonging to 2 classes.\n",
            "Found 2005 images belonging to 2 classes.\n",
            "Epoch 1/25\n",
            " 999/1000 [============================>.] - ETA: 0s - loss: 0.1822 - acc: 0.9419Epoch 1/25\n",
            "2000/1000 [============================================================] - 206s 103ms/step - loss: 0.8206 - acc: 0.5653\n",
            "1000/1000 [==============================] - 343s 343ms/step - loss: 0.1821 - acc: 0.9419 - val_loss: 0.9741 - val_acc: 0.5653\n",
            "Epoch 2/25\n",
            " 999/1000 [============================>.] - ETA: 0s - loss: 0.1611 - acc: 0.9477Epoch 1/25\n",
            "2000/1000 [============================================================] - 206s 103ms/step - loss: 1.4890 - acc: 0.5462\n",
            "1000/1000 [==============================] - 341s 341ms/step - loss: 0.1610 - acc: 0.9477 - val_loss: 1.5575 - val_acc: 0.5462\n",
            "Epoch 3/25\n",
            " 999/1000 [============================>.] - ETA: 0s - loss: 0.1376 - acc: 0.9528Epoch 1/25\n",
            "2000/1000 [============================================================] - 205s 102ms/step - loss: 1.4685 - acc: 0.5657\n",
            "1000/1000 [==============================] - 342s 342ms/step - loss: 0.1377 - acc: 0.9528 - val_loss: 1.5600 - val_acc: 0.5657\n",
            "Epoch 4/25\n",
            " 999/1000 [============================>.] - ETA: 0s - loss: 0.1170 - acc: 0.9576Epoch 1/25\n",
            "2000/1000 [============================================================] - 201s 101ms/step - loss: 1.2602 - acc: 0.6395\n",
            "1000/1000 [==============================] - 336s 336ms/step - loss: 0.1170 - acc: 0.9576 - val_loss: 1.3117 - val_acc: 0.6395\n",
            "Epoch 5/25\n",
            " 999/1000 [============================>.] - ETA: 0s - loss: 0.0924 - acc: 0.9651Epoch 1/25\n",
            "2000/1000 [============================================================] - 198s 99ms/step - loss: 1.5881 - acc: 0.6133\n",
            "1000/1000 [==============================] - 329s 329ms/step - loss: 0.0923 - acc: 0.9651 - val_loss: 1.7136 - val_acc: 0.6133\n",
            "Epoch 6/25\n",
            " 999/1000 [============================>.] - ETA: 0s - loss: 0.0729 - acc: 0.9738Epoch 1/25\n",
            "2000/1000 [============================================================] - 198s 99ms/step - loss: 1.3621 - acc: 0.6556\n",
            "1000/1000 [==============================] - 328s 328ms/step - loss: 0.0729 - acc: 0.9738 - val_loss: 1.5997 - val_acc: 0.6556\n",
            "Epoch 7/25\n",
            " 999/1000 [============================>.] - ETA: 0s - loss: 0.0538 - acc: 0.9812Epoch 1/25\n",
            "2000/1000 [============================================================] - 198s 99ms/step - loss: 1.6803 - acc: 0.6589\n",
            "1000/1000 [==============================] - 329s 329ms/step - loss: 0.0538 - acc: 0.9812 - val_loss: 1.6963 - val_acc: 0.6589\n",
            "Epoch 8/25\n",
            " 999/1000 [============================>.] - ETA: 0s - loss: 0.0411 - acc: 0.9853Epoch 1/25\n",
            "2000/1000 [============================================================] - 198s 99ms/step - loss: 2.2220 - acc: 0.6183\n",
            "1000/1000 [==============================] - 329s 329ms/step - loss: 0.0411 - acc: 0.9853 - val_loss: 2.6233 - val_acc: 0.6183\n",
            "Epoch 9/25\n",
            " 999/1000 [============================>.] - ETA: 0s - loss: 0.0333 - acc: 0.9883Epoch 1/25\n",
            "2000/1000 [============================================================] - 199s 100ms/step - loss: 3.4111 - acc: 0.6004\n",
            "1000/1000 [==============================] - 329s 329ms/step - loss: 0.0333 - acc: 0.9883 - val_loss: 3.5352 - val_acc: 0.6004\n",
            "Epoch 10/25\n",
            " 999/1000 [============================>.] - ETA: 0s - loss: 0.0258 - acc: 0.9908Epoch 1/25\n",
            "2000/1000 [============================================================] - 200s 100ms/step - loss: 2.7953 - acc: 0.6241\n",
            "1000/1000 [==============================] - 332s 332ms/step - loss: 0.0258 - acc: 0.9908 - val_loss: 3.2422 - val_acc: 0.6241\n",
            "Epoch 11/25\n",
            " 999/1000 [============================>.] - ETA: 0s - loss: 0.0243 - acc: 0.9918Epoch 1/25\n",
            "2000/1000 [============================================================] - 202s 101ms/step - loss: 2.8418 - acc: 0.6435\n",
            "1000/1000 [==============================] - 334s 334ms/step - loss: 0.0243 - acc: 0.9918 - val_loss: 3.2410 - val_acc: 0.6435\n",
            "Epoch 12/25\n",
            " 999/1000 [============================>.] - ETA: 0s - loss: 0.0183 - acc: 0.9941Epoch 1/25\n",
            "2000/1000 [============================================================] - 204s 102ms/step - loss: 3.6138 - acc: 0.6068\n",
            "1000/1000 [==============================] - 338s 338ms/step - loss: 0.0183 - acc: 0.9941 - val_loss: 3.6499 - val_acc: 0.6068\n",
            "Epoch 13/25\n",
            " 999/1000 [============================>.] - ETA: 0s - loss: 0.0172 - acc: 0.9942Epoch 1/25\n",
            "2000/1000 [============================================================] - 206s 103ms/step - loss: 4.5729 - acc: 0.6459\n",
            "1000/1000 [==============================] - 341s 341ms/step - loss: 0.0172 - acc: 0.9942 - val_loss: 3.4524 - val_acc: 0.6459\n",
            "Epoch 14/25\n",
            " 999/1000 [============================>.] - ETA: 0s - loss: 0.0169 - acc: 0.9943Epoch 1/25\n",
            "2000/1000 [============================================================] - 208s 104ms/step - loss: 3.6792 - acc: 0.6387\n",
            "1000/1000 [==============================] - 343s 343ms/step - loss: 0.0170 - acc: 0.9943 - val_loss: 3.7790 - val_acc: 0.6387\n",
            "Epoch 15/25\n",
            " 999/1000 [============================>.] - ETA: 0s - loss: 0.0128 - acc: 0.9961Epoch 1/25\n",
            "2000/1000 [============================================================] - 205s 102ms/step - loss: 3.0621 - acc: 0.6310\n",
            "1000/1000 [==============================] - 345s 345ms/step - loss: 0.0128 - acc: 0.9961 - val_loss: 3.2736 - val_acc: 0.6310\n",
            "Epoch 16/25\n",
            " 999/1000 [============================>.] - ETA: 0s - loss: 0.0134 - acc: 0.9952Epoch 1/25\n",
            "2000/1000 [============================================================] - 204s 102ms/step - loss: 3.2796 - acc: 0.6575\n",
            "1000/1000 [==============================] - 342s 342ms/step - loss: 0.0134 - acc: 0.9952 - val_loss: 3.1504 - val_acc: 0.6575\n",
            "Epoch 17/25\n",
            " 999/1000 [============================>.] - ETA: 0s - loss: 0.0151 - acc: 0.9952Epoch 1/25\n",
            "2000/1000 [============================================================] - 206s 103ms/step - loss: 4.4040 - acc: 0.6125\n",
            "1000/1000 [==============================] - 343s 343ms/step - loss: 0.0151 - acc: 0.9953 - val_loss: 4.5834 - val_acc: 0.6125\n",
            "Epoch 18/25\n",
            " 999/1000 [============================>.] - ETA: 0s - loss: 0.0173 - acc: 0.9938Epoch 1/25\n",
            "2000/1000 [============================================================] - 206s 103ms/step - loss: 4.3974 - acc: 0.6200\n",
            "1000/1000 [==============================] - 343s 343ms/step - loss: 0.0173 - acc: 0.9938 - val_loss: 4.0763 - val_acc: 0.6200\n",
            "Epoch 19/25\n",
            " 999/1000 [============================>.] - ETA: 0s - loss: 0.0096 - acc: 0.9970Epoch 1/25\n",
            "2000/1000 [============================================================] - 206s 103ms/step - loss: 4.2634 - acc: 0.6256\n",
            "1000/1000 [==============================] - 342s 342ms/step - loss: 0.0095 - acc: 0.9970 - val_loss: 4.3299 - val_acc: 0.6256\n",
            "Epoch 20/25\n",
            " 999/1000 [============================>.] - ETA: 0s - loss: 0.0108 - acc: 0.9965Epoch 1/25\n",
            "2000/1000 [============================================================] - 209s 105ms/step - loss: 4.8523 - acc: 0.6603\n",
            "1000/1000 [==============================] - 348s 348ms/step - loss: 0.0108 - acc: 0.9965 - val_loss: 3.6469 - val_acc: 0.6603\n",
            "Epoch 21/25\n",
            " 999/1000 [============================>.] - ETA: 0s - loss: 0.0111 - acc: 0.9966Epoch 1/25\n",
            "2000/1000 [============================================================] - 209s 104ms/step - loss: 4.7672 - acc: 0.6265\n",
            "1000/1000 [==============================] - 350s 350ms/step - loss: 0.0111 - acc: 0.9966 - val_loss: 4.2891 - val_acc: 0.6265\n",
            "Epoch 22/25\n",
            " 999/1000 [============================>.] - ETA: 0s - loss: 0.0109 - acc: 0.9962Epoch 1/25\n",
            "2000/1000 [============================================================] - 207s 103ms/step - loss: 4.3982 - acc: 0.6032\n",
            "1000/1000 [==============================] - 345s 345ms/step - loss: 0.0109 - acc: 0.9962 - val_loss: 5.0606 - val_acc: 0.6032\n",
            "Epoch 23/25\n",
            " 999/1000 [============================>.] - ETA: 0s - loss: 0.0088 - acc: 0.9972Epoch 1/25\n",
            "2000/1000 [============================================================] - 202s 101ms/step - loss: 4.1818 - acc: 0.6313\n",
            "1000/1000 [==============================] - 336s 336ms/step - loss: 0.0088 - acc: 0.9972 - val_loss: 4.5380 - val_acc: 0.6313\n",
            "Epoch 24/25\n",
            " 999/1000 [============================>.] - ETA: 0s - loss: 0.0122 - acc: 0.9960Epoch 1/25\n",
            "2000/1000 [============================================================] - 198s 99ms/step - loss: 4.4923 - acc: 0.6091\n",
            "1000/1000 [==============================] - 329s 329ms/step - loss: 0.0122 - acc: 0.9960 - val_loss: 5.1878 - val_acc: 0.6091\n",
            "Epoch 25/25\n",
            " 999/1000 [============================>.] - ETA: 0s - loss: 0.0076 - acc: 0.9975Epoch 1/25\n",
            "2000/1000 [============================================================] - 202s 101ms/step - loss: 5.0320 - acc: 0.6256\n",
            "1000/1000 [==============================] - 331s 331ms/step - loss: 0.0076 - acc: 0.9975 - val_loss: 4.8625 - val_acc: 0.6256\n"
          ],
          "name": "stdout"
        },
        {
          "output_type": "execute_result",
          "data": {
            "text/plain": [
              "<tensorflow.python.keras.callbacks.History at 0x7fd8cc380400>"
            ]
          },
          "metadata": {
            "tags": []
          },
          "execution_count": 38
        }
      ]
    },
    {
      "cell_type": "code",
      "metadata": {
        "id": "mta853864GWl",
        "colab_type": "code",
        "colab": {}
      },
      "source": [
        "#Making new predictions\n",
        "import numpy as np\n",
        "from keras.preprocessing import image\n",
        "test_image=image.load_img('dataset/single_prediction/cat_or_dog_1.jpg',target_size=(64,64))\n",
        "test_image=image.img_to_array(test_image)\n",
        "test_image=np.expand_dims(test_image,axis=0)"
      ],
      "execution_count": 0,
      "outputs": []
    },
    {
      "cell_type": "code",
      "metadata": {
        "id": "1VpqOyEP-N_s",
        "colab_type": "code",
        "colab": {
          "base_uri": "https://localhost:8080/",
          "height": 34
        },
        "outputId": "884d8056-c597-44d4-9d88-d85a3ca5aa3f"
      },
      "source": [
        "result=classifier.predict(test_image)\n",
        "training_set.class_indices"
      ],
      "execution_count": 41,
      "outputs": [
        {
          "output_type": "execute_result",
          "data": {
            "text/plain": [
              "{'cats': 0, 'dogs': 1}"
            ]
          },
          "metadata": {
            "tags": []
          },
          "execution_count": 41
        }
      ]
    },
    {
      "cell_type": "code",
      "metadata": {
        "id": "hsSMCEVTFnXK",
        "colab_type": "code",
        "colab": {
          "base_uri": "https://localhost:8080/",
          "height": 34
        },
        "outputId": "c50e4444-42cf-4e16-ff7e-98b9026663d5"
      },
      "source": [
        "if result[0][0]==1:\n",
        "  prediction='Dog'\n",
        "else:\n",
        "  prediction='Cat'\n",
        "print(prediction)"
      ],
      "execution_count": 43,
      "outputs": [
        {
          "output_type": "stream",
          "text": [
            "Dog\n"
          ],
          "name": "stdout"
        }
      ]
    }
  ]
}